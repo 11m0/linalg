{
 "cells": [
  {
   "cell_type": "code",
   "execution_count": 1,
   "id": "c0a41e88",
   "metadata": {},
   "outputs": [],
   "source": [
    "import numpy as np\n",
    "from numpy.linalg import norm"
   ]
  },
  {
   "cell_type": "markdown",
   "id": "3dcc1522",
   "metadata": {},
   "source": [
    "## Part 1"
   ]
  },
  {
   "cell_type": "markdown",
   "id": "26e0a7ab",
   "metadata": {},
   "source": [
    "__1.__ Исследовать на линейную зависимость:\n",
    "$$f_{1}(x)=e^{x}, f_{2}(x)=1, f_{3}(x)=x+1, f_{4}(x)=x-e^{x}.$$"
   ]
  },
  {
   "cell_type": "markdown",
   "id": "03e950b1",
   "metadata": {},
   "source": [
    "Вектора линейно зависимы т.к. f1 = f3 - f2 - f4"
   ]
  },
  {
   "cell_type": "markdown",
   "id": "87d7e828",
   "metadata": {},
   "source": [
    "__2.__ Исследовать на линейную зависимость:\n",
    "$$f_{1}(x)=2, f_{2}(x)=x, f_{3}(x)=x^{2}, f_{4}(x)=(x+1)^{2}$$"
   ]
  },
  {
   "cell_type": "markdown",
   "id": "79c340e4",
   "metadata": {},
   "source": [
    "Вектора линейно зависимы т.к. f4 = f3 + 2*f2 - f1/2"
   ]
  },
  {
   "cell_type": "markdown",
   "id": "87ad46b8",
   "metadata": {},
   "source": [
    "__3.__ Найти координаты вектора $x = (2, 3, 5)\\in \\mathbb{R}^{3}$ в базисе $b_{1}=(0, 0, 10)$, $b_{2}=(2, 0, 0)$, $b_{3}=(0, 1, 0)$."
   ]
  },
  {
   "cell_type": "markdown",
   "id": "11700cf2",
   "metadata": {},
   "source": [
    "x = e_2 + 3*e_3 + e_1/2"
   ]
  },
  {
   "cell_type": "markdown",
   "id": "896b20f6",
   "metadata": {},
   "source": [
    "##__4.__ Найти координаты вектора $3x^{2}-2x+2\\in\\mathbb{R}^{3}[x]$:\n",
    "\n",
    "а) в базисе $1$, $x$, $x^{2}$;\n",
    "\n",
    "б) в базисе $x^{2}$, $x-1$, $1$."
   ]
  },
  {
   "cell_type": "markdown",
   "id": "cb9da6f3",
   "metadata": {},
   "source": [
    "a)\n",
    "3x^2e_1 - 2e_2 + 2e_3/x^2\n",
    "\n",
    "б)\n",
    "3e_1 - 2e_2-2 + 2e_3"
   ]
  },
  {
   "cell_type": "markdown",
   "id": "e2c48050",
   "metadata": {},
   "source": [
    "## Part 2"
   ]
  },
  {
   "cell_type": "markdown",
   "id": "570ac3ad",
   "metadata": {},
   "source": [
    "__1.__ Найти скалярное произведение векторов $x, y \\in \\mathbb{R}$:<br>\n",
    "а) $x=(0,-3, 6),~y=(-4, 7, 9);$<br>\n",
    "б) $x=(7, -4, 0, 1),~y=(-3, 1, 11, 2).$"
   ]
  },
  {
   "cell_type": "code",
   "execution_count": 2,
   "id": "bb6c3b44",
   "metadata": {},
   "outputs": [
    {
     "data": {
      "text/plain": [
       "33"
      ]
     },
     "execution_count": 2,
     "metadata": {},
     "output_type": "execute_result"
    }
   ],
   "source": [
    "x = np.array([0, -3, 6])\n",
    "y = np.array([-4, 7, 9])\n",
    "np.dot(x, y)"
   ]
  },
  {
   "cell_type": "code",
   "execution_count": 3,
   "id": "33d4db78",
   "metadata": {},
   "outputs": [
    {
     "data": {
      "text/plain": [
       "-23"
      ]
     },
     "execution_count": 3,
     "metadata": {},
     "output_type": "execute_result"
    }
   ],
   "source": [
    "x = np.array([7, -4, 0, 1])\n",
    "y = np.array([-3, 1, 11, 2])\n",
    "np.dot(x, y)"
   ]
  },
  {
   "cell_type": "markdown",
   "id": "9ce2165f",
   "metadata": {},
   "source": [
    "__2.__ Найти нормы векторов $(4, 2, 4)$ и $(12, 3, 4)$ и угол между ними."
   ]
  },
  {
   "cell_type": "code",
   "execution_count": 4,
   "id": "907b4579",
   "metadata": {},
   "outputs": [
    {
     "name": "stdout",
     "output_type": "stream",
     "text": [
      "Манхэттенская норма вектора a: 10.0\n",
      "Евклидова норма вектора a: 6.0\n",
      "Манхэттенская норма вектора b: 19.0\n",
      "Евклидова норма вектора b: 13.0\n"
     ]
    }
   ],
   "source": [
    "a, b = np.array([4,2,4]), np.array([12,3,4])\n",
    "\n",
    "print(f'Манхэттенская норма вектора a: {norm(a, ord=1)}\\nЕвклидова норма вектора a: {norm(a, ord=2)}\\n'\n",
    "      f'Манхэттенская норма вектора b: {norm(b, ord=1)}\\nЕвклидова норма вектора b: {norm(b, ord=2)}')"
   ]
  },
  {
   "cell_type": "code",
   "execution_count": 5,
   "id": "85c733f4",
   "metadata": {},
   "outputs": [
    {
     "data": {
      "text/plain": [
       "0.8974358974358974"
      ]
     },
     "execution_count": 5,
     "metadata": {},
     "output_type": "execute_result"
    }
   ],
   "source": [
    "cos_phi = np.dot(a, b) / norm(a) / norm(b)\n",
    "cos_phi"
   ]
  },
  {
   "cell_type": "markdown",
   "id": "0eba0e68",
   "metadata": {},
   "source": [
    "__3.__ Будет ли линейное пространство евклидовым, если за скалярное произведение принять:<br>\n",
    "а) произведение длин векторов;<br>\n",
    "б) утроенное обычное скалярное произведение векторов?<br>"
   ]
  },
  {
   "cell_type": "markdown",
   "id": "764798bf",
   "metadata": {},
   "source": [
    "Согласно определению пространство является евклидовым, если:\n",
    "\n",
    "1) $(x,y)=(y,x);$<br>\n",
    "2) $(\\lambda x, y)=\\lambda(x, y);$<br>\n",
    "3) $(x_{1}+x_{2},y)=(x_{1},y)+(x_{2},y);$<br>\n",
    "4) $(x, x)\\geq0$, причем $(x,x)=0\\Leftrightarrow x=0.$"
   ]
  },
  {
   "cell_type": "markdown",
   "id": "fa122b1a",
   "metadata": {},
   "source": [
    "а) $(x, y) = \\left|x\\right|\\cdot\\left|y\\right|$"
   ]
  },
  {
   "cell_type": "markdown",
   "id": "8fd792d4",
   "metadata": {},
   "source": [
    "1) $(x,y)=|x_{1}||y_{1}| + |x_{2}||y_{2}| = |y_{1}||x_{1}| + |y_{2}||x_{2}| = (y,x)$ - условие выполняется$;$<br>\n",
    "2) $(\\lambda x, y)=\\lambda|x_{1}||y_{1}| + \\lambda|x_{2}||y_{2}|= \\lambda(|x_{1}||y_{1}| + |x_{2}||y_{2}|) =\\lambda(x, y)$ - условие выполняется$;$<br>\n",
    "3) $(x_{1}+x_{2},y)=(x_{1},y)+(x_{2},y)$ - условие не выполняется$;$<br> \n",
    "4) $(x, x)=|x_{1}||x_{1}| + |x_{2}||x_{2}|\\geq0$, причем $(x,x)=0\\Leftrightarrow x=0.$ - условие выполняется"
   ]
  },
  {
   "cell_type": "markdown",
   "id": "56357893",
   "metadata": {},
   "source": [
    "б) $(x, y) = 3(x, y)$"
   ]
  },
  {
   "cell_type": "markdown",
   "id": "05ee8ca1",
   "metadata": {},
   "source": [
    "1) $3(x,y)= 3(y,x)$ - условие выполняется$;$<br>\n",
    "2) $3(\\lambda x, y)=3\\lambda(x, y)$ - условие выполняется$;$<br>\n",
    "3) $3(x_{1}+x_{2},y)=3(x_{1},y)+3(x_{2},y)$ - условие выполняется$;$<br> \n",
    "4) $3(x, x)=3x_{1}x_{1} + 3x_{2}x_{2}\\geq0$, причем $(x,x)=0\\Leftrightarrow x=0.$ - условие выполняется"
   ]
  },
  {
   "cell_type": "markdown",
   "id": "fc075c7c",
   "metadata": {},
   "source": [
    "__4.__ Какие из нижеперечисленных векторов образуют ортонормированный базис в линейном пространстве $\\mathbb{R}^{3}$:<br>\n",
    "а) $(1,0,0),(0,0,1);$ <br>\n",
    "б) $(1/\\sqrt{2},-1/\\sqrt{2},0),(1/\\sqrt{2},1/\\sqrt{2},0), (0,0,1);$<br>\n",
    "в) $(1/2, -1/2, 0), (0, 1/2, 1/2), (0,0,1);$<br>\n",
    "г) $(1,0,0),(0,1,0),(0,0,1)?$ "
   ]
  },
  {
   "cell_type": "markdown",
   "id": "30331f2b",
   "metadata": {},
   "source": [
    "По определению в конечномерном евклидовом пространстве базис $\\{e_{1},e_{2},...,e_{n}\\}$ называется ортонормированным, если \n",
    "\n",
    "$(e_{i}, e_{j})=0$ $\\forall$ $i\\neq j$ и $(e_{i},e_{i})=1$ $\\forall$ $i\\in[1, n].$"
   ]
  },
  {
   "cell_type": "code",
   "execution_count": 6,
   "id": "bf2b8b78",
   "metadata": {},
   "outputs": [],
   "source": [
    "a = np.array([\n",
    "    [1, 0, 0],\n",
    "    [0, 0, 1]\n",
    "])\n",
    "\n",
    "b = np.array([\n",
    "    [1/(2**0.5), -1/(2**0.5), 0],\n",
    "    [1/(2**0.5),  1/(2**0.5), 0],\n",
    "    [0         ,  0         , 1]\n",
    "])\n",
    "\n",
    "c = np.array([\n",
    "    [1/2, -1/2, 0  ],\n",
    "    [0  ,  1/2, 1/2],\n",
    "    [0  ,    0, 1  ]\n",
    "])\n",
    "\n",
    "d = np.array([\n",
    "    [1, 0, 0],\n",
    "    [0, 1, 0],\n",
    "    [0, 0, 1]\n",
    "])"
   ]
  },
  {
   "cell_type": "code",
   "execution_count": 7,
   "id": "4de5e992",
   "metadata": {},
   "outputs": [],
   "source": [
    "def orto(data: np.array):\n",
    "\n",
    "    k = 0\n",
    "    \n",
    "    for i in range(len(data)):\n",
    "        if k != 0:\n",
    "            return 'Вектора не образуют ортонормированный базис'\n",
    "        elif round(np.dot(data[i], data[i])) == 1 and np.dot(data[i], data[i-1]) == 0:\n",
    "            continue\n",
    "        else:\n",
    "            k += 1\n",
    "    return 'Вектора образуют ортонормированный базис'"
   ]
  },
  {
   "cell_type": "code",
   "execution_count": 8,
   "id": "1d1f4b38",
   "metadata": {},
   "outputs": [
    {
     "data": {
      "text/plain": [
       "'Вектора образуют ортонормированный базис'"
      ]
     },
     "execution_count": 8,
     "metadata": {},
     "output_type": "execute_result"
    }
   ],
   "source": [
    "orto(a)"
   ]
  },
  {
   "cell_type": "code",
   "execution_count": 9,
   "id": "cbeba8cf",
   "metadata": {},
   "outputs": [
    {
     "data": {
      "text/plain": [
       "'Вектора образуют ортонормированный базис'"
      ]
     },
     "execution_count": 9,
     "metadata": {},
     "output_type": "execute_result"
    }
   ],
   "source": [
    "orto(b)"
   ]
  },
  {
   "cell_type": "code",
   "execution_count": 10,
   "id": "06e97eca",
   "metadata": {},
   "outputs": [
    {
     "data": {
      "text/plain": [
       "'Вектора не образуют ортонормированный базис'"
      ]
     },
     "execution_count": 10,
     "metadata": {},
     "output_type": "execute_result"
    }
   ],
   "source": [
    "orto(c)"
   ]
  },
  {
   "cell_type": "code",
   "execution_count": 11,
   "id": "2f60797c",
   "metadata": {},
   "outputs": [
    {
     "data": {
      "text/plain": [
       "'Вектора образуют ортонормированный базис'"
      ]
     },
     "execution_count": 11,
     "metadata": {},
     "output_type": "execute_result"
    }
   ],
   "source": [
    "orto(d)"
   ]
  }
 ],
 "metadata": {
  "kernelspec": {
   "display_name": "Python 3 (ipykernel)",
   "language": "python",
   "name": "python3"
  },
  "language_info": {
   "codemirror_mode": {
    "name": "ipython",
    "version": 3
   },
   "file_extension": ".py",
   "mimetype": "text/x-python",
   "name": "python",
   "nbconvert_exporter": "python",
   "pygments_lexer": "ipython3",
   "version": "3.9.5"
  }
 },
 "nbformat": 4,
 "nbformat_minor": 5
}
