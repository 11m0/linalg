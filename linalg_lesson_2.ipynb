{
 "cells": [
  {
   "cell_type": "code",
   "execution_count": 18,
   "id": "9fe03c49",
   "metadata": {},
   "outputs": [],
   "source": [
    "import numpy as np\n",
    "import random"
   ]
  },
  {
   "cell_type": "markdown",
   "id": "22c2cefe",
   "metadata": {},
   "source": [
    "### Часть 1"
   ]
  },
  {
   "cell_type": "markdown",
   "id": "f9612e2a",
   "metadata": {},
   "source": [
    "__1.__ Установить, какие произведения матриц $AB$ и $BA$ определены, и найти размерности полученных матриц:\n",
    "\n",
    "   а) $A$ — матрица $4\\times 2$, $B$ — матрица $4\\times 2$;\n",
    "    \n",
    "   б) $A$ — матрица $2\\times 5$, $B$ — матрица $5\\times 3$;\n",
    "    \n",
    "   в) $A$ — матрица $8\\times 3$, $B$ — матрица $3\\times 8$;\n",
    "    \n",
    "   г) $A$ — квадратная матрица $4\\times 4$, $B$ — квадратная матрица $4\\times 4$."
   ]
  },
  {
   "cell_type": "markdown",
   "id": "950c3b8e",
   "metadata": {},
   "source": [
    "а) Матрица не определена (кол-во столбцов матрицы A не совпадает с кол-вом строк матрицы B)\n",
    "\n",
    "б) Результирующая матрица: 2 х 3\n",
    "\n",
    "в) Результирующая матрица: 8 х 8\n",
    "\n",
    "г) Результирующая матрица: 4 х 4"
   ]
  },
  {
   "cell_type": "markdown",
   "id": "7c16bcd2",
   "metadata": {},
   "source": [
    "__2.__ Найти сумму и произведение матриц $A=\\begin{pmatrix}\n",
    "1 & -2\\\\ \n",
    "3 & 0\n",
    "\\end{pmatrix}$ и $B=\\begin{pmatrix}\n",
    "4 & -1\\\\ \n",
    "0 & 5\n",
    "\\end{pmatrix}.$"
   ]
  },
  {
   "cell_type": "code",
   "execution_count": 2,
   "id": "8ea4e352",
   "metadata": {},
   "outputs": [],
   "source": [
    "A = np.array([\n",
    "    [1,-2],\n",
    "    [3, 0]\n",
    "])\n",
    "\n",
    "B = np.array([\n",
    "    [4,-1],\n",
    "    [0, 5]\n",
    "])"
   ]
  },
  {
   "cell_type": "code",
   "execution_count": 5,
   "id": "ba6ff359",
   "metadata": {},
   "outputs": [
    {
     "name": "stdout",
     "output_type": "stream",
     "text": [
      "[[ 5 -3]\n",
      " [ 3  5]]\n"
     ]
    }
   ],
   "source": [
    "print(A + B)"
   ]
  },
  {
   "cell_type": "code",
   "execution_count": 6,
   "id": "4d24707a",
   "metadata": {},
   "outputs": [
    {
     "name": "stdout",
     "output_type": "stream",
     "text": [
      "[[  4 -11]\n",
      " [ 12  -3]]\n"
     ]
    }
   ],
   "source": [
    "print(np.dot(A, B))"
   ]
  },
  {
   "cell_type": "code",
   "execution_count": 7,
   "id": "d8a9e0b1",
   "metadata": {},
   "outputs": [
    {
     "name": "stdout",
     "output_type": "stream",
     "text": [
      "[[ 1 -8]\n",
      " [15  0]]\n"
     ]
    }
   ],
   "source": [
    "print(np.dot(B, A))"
   ]
  },
  {
   "cell_type": "markdown",
   "id": "c27b9607",
   "metadata": {},
   "source": [
    "__3.__ Из закономерностей сложения и умножения матриц на число можно сделать вывод, что матрицы одного размера образуют линейное пространство. Вычислить линейную комбинацию $3A-2B+4C$ для матриц $A=\\begin{pmatrix}\n",
    "1 & 7\\\\ \n",
    "3 & -6\n",
    "\\end{pmatrix}$, $B=\\begin{pmatrix}\n",
    "0 & 5\\\\ \n",
    "2 & -1\n",
    "\\end{pmatrix}$, $C=\\begin{pmatrix}\n",
    "2 & -4\\\\ \n",
    "1 & 1\n",
    "\\end{pmatrix}.$"
   ]
  },
  {
   "cell_type": "code",
   "execution_count": 8,
   "id": "19e277b6",
   "metadata": {},
   "outputs": [],
   "source": [
    "A = np.array([\n",
    "    [1, 7],\n",
    "    [3,-6]\n",
    "])\n",
    "\n",
    "B = np.array([\n",
    "    [0, 5],\n",
    "    [2,-1]\n",
    "])\n",
    "\n",
    "C = np.array([\n",
    "    [2,-4],\n",
    "    [1, 1]\n",
    "])"
   ]
  },
  {
   "cell_type": "code",
   "execution_count": 9,
   "id": "2d1cef72",
   "metadata": {},
   "outputs": [
    {
     "name": "stdout",
     "output_type": "stream",
     "text": [
      "[[ 11  -5]\n",
      " [  9 -12]]\n"
     ]
    }
   ],
   "source": [
    "print(3*A - 2*B + 4*C)"
   ]
  },
  {
   "cell_type": "markdown",
   "id": "cae82a59",
   "metadata": {},
   "source": [
    "__4.__ Дана матрица $A=\\begin{pmatrix}\n",
    "4 & 1\\\\ \n",
    "5 & -2\\\\ \n",
    "2 & 3\n",
    "\\end{pmatrix}$.\n",
    "Вычислить $AA^{T}$ и $A^{T}A$."
   ]
  },
  {
   "cell_type": "code",
   "execution_count": 10,
   "id": "a2ceeab5",
   "metadata": {},
   "outputs": [],
   "source": [
    "A = np.array([\n",
    "    [4, 1],\n",
    "    [5,-2],\n",
    "    [2, 3]\n",
    "])"
   ]
  },
  {
   "cell_type": "code",
   "execution_count": 11,
   "id": "00efd259",
   "metadata": {},
   "outputs": [
    {
     "name": "stdout",
     "output_type": "stream",
     "text": [
      "[[17 18 11]\n",
      " [18 29  4]\n",
      " [11  4 13]]\n"
     ]
    }
   ],
   "source": [
    "print(np.dot(A, A.T))"
   ]
  },
  {
   "cell_type": "code",
   "execution_count": 12,
   "id": "2bb1181c",
   "metadata": {},
   "outputs": [
    {
     "name": "stdout",
     "output_type": "stream",
     "text": [
      "[[45  0]\n",
      " [ 0 14]]\n"
     ]
    }
   ],
   "source": [
    "print(np.dot(A.T, A))"
   ]
  },
  {
   "cell_type": "markdown",
   "id": "fba6b44e",
   "metadata": {},
   "source": [
    "__5*.__ Написать на Python функцию для перемножения двух произвольных матриц, не используя NumPy."
   ]
  },
  {
   "cell_type": "code",
   "execution_count": 147,
   "id": "74f1e4b9",
   "metadata": {},
   "outputs": [],
   "source": [
    "def my_func(matrix_1: np.array, matrix_2: np.array):\n",
    "    \n",
    "    result = [[0 for x in range(len(matrix_1))] for y in range(len(matrix_2[0]))]\n",
    "    \n",
    "    assert len(matrix_1[0]) == len(matrix_2), 'Матрицы не могут быть перемножены'\n",
    "    \n",
    "    for i in range(len(matrix_1)):\n",
    "        for j in range(len(matrix_2[0])):\n",
    "            for k in range(len(matrix_1[0])):\n",
    "                result[i][j] += matrix_1[i][k] * matrix_2[k][j]\n",
    "                \n",
    "    return result"
   ]
  },
  {
   "cell_type": "code",
   "execution_count": 148,
   "id": "5740e756",
   "metadata": {},
   "outputs": [],
   "source": [
    "A = np.array([\n",
    "    [1,-2, 1],\n",
    "    [3, 0, 1],\n",
    "    [4, -5, 2]\n",
    "])\n",
    "\n",
    "B = np.array([\n",
    "    [4,-1, 2],\n",
    "    [0, 5, 4],\n",
    "    [1, 2, 6]\n",
    "])"
   ]
  },
  {
   "cell_type": "code",
   "execution_count": 149,
   "id": "716f3672",
   "metadata": {},
   "outputs": [
    {
     "data": {
      "text/plain": [
       "[[5, -9, 0], [13, -1, 12], [18, -25, 0]]"
      ]
     },
     "execution_count": 149,
     "metadata": {},
     "output_type": "execute_result"
    }
   ],
   "source": [
    "my_func(A, B)"
   ]
  },
  {
   "cell_type": "markdown",
   "id": "f0755de1",
   "metadata": {},
   "source": [
    "### Часть 2"
   ]
  },
  {
   "cell_type": "markdown",
   "id": "563c472b",
   "metadata": {},
   "source": [
    "__1.__ Вычислить определитель:\n",
    "\n",
    "   a)\n",
    "\n",
    "$$\\begin{vmatrix}\n",
    "sinx & -cosx\\\\ \n",
    "cosx & sinx\n",
    "\\end{vmatrix};$$\n",
    "\n",
    "   б)\n",
    "    \n",
    "$$\\begin{vmatrix}\n",
    "4 & 2 & 3\\\\ \n",
    "0 & 5 & 1\\\\ \n",
    "0 & 0 & 9\n",
    "\\end{vmatrix};$$\n",
    "    \n",
    "   в)\n",
    "\n",
    "$$\\begin{vmatrix}\n",
    "1 & 2 & 3\\\\ \n",
    "4 & 5 & 6\\\\ \n",
    "7 & 8 & 9\n",
    "\\end{vmatrix}.$$"
   ]
  },
  {
   "cell_type": "code",
   "execution_count": 19,
   "id": "562c6818",
   "metadata": {},
   "outputs": [],
   "source": [
    "x = random.randint(0, 100)\n",
    "\n",
    "A = np.array([\n",
    "    [np.sin(x), -np.cos(x)],\n",
    "    [np.cos(x),  np.sin(x)]\n",
    "])"
   ]
  },
  {
   "cell_type": "code",
   "execution_count": 20,
   "id": "c535203b",
   "metadata": {},
   "outputs": [
    {
     "data": {
      "text/plain": [
       "1"
      ]
     },
     "execution_count": 20,
     "metadata": {},
     "output_type": "execute_result"
    }
   ],
   "source": [
    "round(np.linalg.det(A))"
   ]
  },
  {
   "cell_type": "code",
   "execution_count": 22,
   "id": "41a8e94a",
   "metadata": {},
   "outputs": [],
   "source": [
    "B = np.array([\n",
    "    [4, 2, 3],\n",
    "    [0, 5, 1],\n",
    "    [0, 0, 9]\n",
    "])"
   ]
  },
  {
   "cell_type": "code",
   "execution_count": 23,
   "id": "4fc28b3b",
   "metadata": {},
   "outputs": [
    {
     "data": {
      "text/plain": [
       "180.0"
      ]
     },
     "execution_count": 23,
     "metadata": {},
     "output_type": "execute_result"
    }
   ],
   "source": [
    "np.linalg.det(B)"
   ]
  },
  {
   "cell_type": "code",
   "execution_count": 24,
   "id": "48d04f95",
   "metadata": {},
   "outputs": [],
   "source": [
    "C = np.array([\n",
    "    [1, 2, 3],\n",
    "    [4, 5, 6],\n",
    "    [7, 8, 9]\n",
    "])"
   ]
  },
  {
   "cell_type": "code",
   "execution_count": 27,
   "id": "5a9a7161",
   "metadata": {},
   "outputs": [
    {
     "data": {
      "text/plain": [
       "0"
      ]
     },
     "execution_count": 27,
     "metadata": {},
     "output_type": "execute_result"
    }
   ],
   "source": [
    "round(np.linalg.det(C))"
   ]
  },
  {
   "cell_type": "markdown",
   "id": "562dc4af",
   "metadata": {},
   "source": [
    "__2.__ Определитель матрицы $A$ равен $4$. Найти:\n",
    "\n",
    "   а) $det(A^{2})$;\n",
    "    \n",
    "   б) $det(A^{T})$;\n",
    "    \n",
    "   в) $det(2A)$."
   ]
  },
  {
   "cell_type": "markdown",
   "id": "41b69771",
   "metadata": {},
   "source": [
    "a) При возведении матрицы в степень, определитель получит такую же степень. Ответ 16."
   ]
  },
  {
   "cell_type": "markdown",
   "id": "ee91c4be",
   "metadata": {},
   "source": [
    "б) Определители транспонированной матрицы равен определителю исходной. Ответ 4."
   ]
  },
  {
   "cell_type": "markdown",
   "id": "58c30037",
   "metadata": {},
   "source": [
    "в) При умножении матрицы на число, определитель матрицы будет умножен на то же число в степени, равной количеству строк. Ответ 4*2^3 = 32."
   ]
  },
  {
   "cell_type": "markdown",
   "id": "6ccaf287",
   "metadata": {},
   "source": [
    "__3.__  Доказать, что матрица\n",
    "\n",
    "$$\\begin{pmatrix}\n",
    "-2 & 7 & -3\\\\ \n",
    "4 & -14 & 6\\\\ \n",
    "-3 & 7 & 13\n",
    "\\end{pmatrix}$$\n",
    "   \n",
    "вырожденная."
   ]
  },
  {
   "cell_type": "markdown",
   "id": "7dc54351",
   "metadata": {},
   "source": [
    "По определению матрица называется вырожденной, если ее определитель равен нулю."
   ]
  },
  {
   "cell_type": "code",
   "execution_count": 28,
   "id": "a69d90d5",
   "metadata": {},
   "outputs": [],
   "source": [
    "A = np.array([\n",
    "    [-2,   7, -3],\n",
    "    [ 4, -14,  6],\n",
    "    [-3,   7, 13]\n",
    "])"
   ]
  },
  {
   "cell_type": "code",
   "execution_count": 29,
   "id": "3c3a1a53",
   "metadata": {},
   "outputs": [
    {
     "data": {
      "text/plain": [
       "0"
      ]
     },
     "execution_count": 29,
     "metadata": {},
     "output_type": "execute_result"
    }
   ],
   "source": [
    "round(np.linalg.det(A))"
   ]
  },
  {
   "cell_type": "markdown",
   "id": "486a433b",
   "metadata": {},
   "source": [
    "__4.__ Найти ранг матрицы:\n",
    "\n",
    "   а) $\\begin{pmatrix}\n",
    "1 & 2 & 3\\\\ \n",
    "1 & 1 & 1\\\\ \n",
    "2 & 3 & 4\n",
    "\\end{pmatrix};$\n",
    "\n",
    "   б) $\\begin{pmatrix}\n",
    "0 & 0 & 2 & 1\\\\ \n",
    "0 & 0 & 2 & 2\\\\ \n",
    "0 & 0 & 4 & 3\\\\ \n",
    "2 & 3 & 5 & 6\n",
    "\\end{pmatrix}.$"
   ]
  },
  {
   "cell_type": "code",
   "execution_count": 30,
   "id": "44f41a69",
   "metadata": {},
   "outputs": [],
   "source": [
    "A = np.array([\n",
    "    [1, 2, 3],\n",
    "    [1, 1, 1],\n",
    "    [2, 3, 4]\n",
    "])\n",
    "\n",
    "B = np.array([\n",
    "    [0, 0, 2, 1],\n",
    "    [0, 0, 2, 2],\n",
    "    [0, 0, 4, 3],\n",
    "    [2, 3, 5, 6]\n",
    "])"
   ]
  },
  {
   "cell_type": "code",
   "execution_count": 31,
   "id": "1edeb632",
   "metadata": {},
   "outputs": [
    {
     "data": {
      "text/plain": [
       "2"
      ]
     },
     "execution_count": 31,
     "metadata": {},
     "output_type": "execute_result"
    }
   ],
   "source": [
    "np.linalg.matrix_rank(A)"
   ]
  },
  {
   "cell_type": "code",
   "execution_count": 32,
   "id": "25d01d04",
   "metadata": {},
   "outputs": [
    {
     "data": {
      "text/plain": [
       "3"
      ]
     },
     "execution_count": 32,
     "metadata": {},
     "output_type": "execute_result"
    }
   ],
   "source": [
    "np.linalg.matrix_rank(B)"
   ]
  }
 ],
 "metadata": {
  "kernelspec": {
   "display_name": "Python 3",
   "language": "python",
   "name": "python3"
  },
  "language_info": {
   "codemirror_mode": {
    "name": "ipython",
    "version": 3
   },
   "file_extension": ".py",
   "mimetype": "text/x-python",
   "name": "python",
   "nbconvert_exporter": "python",
   "pygments_lexer": "ipython3",
   "version": "3.8.8"
  }
 },
 "nbformat": 4,
 "nbformat_minor": 5
}
