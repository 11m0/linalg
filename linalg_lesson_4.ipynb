{
 "cells": [
  {
   "cell_type": "code",
   "execution_count": 2,
   "id": "43a8ca61",
   "metadata": {},
   "outputs": [],
   "source": [
    "import numpy as np"
   ]
  },
  {
   "cell_type": "markdown",
   "id": "a3f8b606",
   "metadata": {},
   "source": [
    "### Часть 1"
   ]
  },
  {
   "cell_type": "markdown",
   "id": "c834c25c",
   "metadata": {},
   "source": [
    "__1.__ Решить систему уравнений методом Гаусса:\n",
    "\n",
    "$$\\begin{cases}\n",
    "x_{1}+x_{2}-x_{3}-2x_{4}=0, \\\\\n",
    "2x_{1}+x_{2}-x_{3}+x_{4}=-2, \\\\\n",
    "x_{1}+x_{2}-3x_{3}+x_{4}=4.\n",
    "\\end{cases}$$"
   ]
  },
  {
   "cell_type": "markdown",
   "id": "5341d6cb",
   "metadata": {},
   "source": [
    "\\begin{pmatrix}\n",
    "\\left.\\begin{matrix}\n",
    "1 & 1 & -1 & -2 \\\\ \n",
    "2 & 1 & -1 & 1 \\\\ \n",
    "1 & 1 & -3 & 1\n",
    "\\end{matrix}\\right|\n",
    "\\begin{matrix}\n",
    "0\\\\ \n",
    "-2\\\\\n",
    "4\n",
    "\\end{matrix}\n",
    "\\end{pmatrix}."
   ]
  },
  {
   "cell_type": "markdown",
   "id": "4aa68bd9",
   "metadata": {},
   "source": [
    "Прибавим ко 2-й и 3-й строке 1-ю, умноженную на -2 и -1 соответственно:"
   ]
  },
  {
   "cell_type": "markdown",
   "id": "1ac8b7f6",
   "metadata": {},
   "source": [
    "\\begin{pmatrix}\n",
    "\\left.\\begin{matrix}\n",
    "1 & 1 & -1 & -2 \\\\ \n",
    "0 & -1 & 1 & 5 \\\\ \n",
    "0 & 0 & -2 & 3\n",
    "\\end{matrix}\\right|\n",
    "\\begin{matrix}\n",
    "0\\\\ \n",
    "-2\\\\\n",
    "4\n",
    "\\end{matrix}\n",
    "\\end{pmatrix}"
   ]
  },
  {
   "cell_type": "markdown",
   "id": "8545b2f8",
   "metadata": {},
   "source": [
    "\\begin{cases}\n",
    "x_{1}+x_{2}-x_{3} - 2x_{4}=0 \\\\\n",
    "~~~ -x_{2}+x_{3} + x_{4}=-2 \\\\\n",
    "~~~~~~~~~~ -2x_{3} + 3x_{4} = 4\n",
    "\\end{cases}"
   ]
  },
  {
   "cell_type": "markdown",
   "id": "2ff8c9e6",
   "metadata": {},
   "source": [
    "Система имеет бесконечное множество решений, x_4 - свободный член, общее решение имеет вид:"
   ]
  },
  {
   "cell_type": "markdown",
   "id": "c607e7a5",
   "metadata": {},
   "source": [
    "\\begin{cases}\n",
    "x_{1} = -3x_4 -2 \\\\\n",
    "x_{2} = 6.5x_4 \\\\\n",
    "x_3 = 1.5x_4 -2\n",
    "\\end{cases}"
   ]
  },
  {
   "cell_type": "markdown",
   "id": "6169dae9",
   "metadata": {},
   "source": [
    "__2.__ Проверить на совместность и выяснить, сколько решений будет иметь система линейных уравнений:\n",
    "\n",
    "   а) $\\begin{cases}\n",
    "3x_{1}-x_{2}+x_{3}=4, \\\\\n",
    "2x_{1}-5x_{2}-3x_{3}=-17, \\\\\n",
    "x_{1}+x_{2}-x_{3}=0;\n",
    "\\end{cases}$\n",
    "    \n",
    "   б) $\\begin{cases}\n",
    "2x_{1}-4x_{2}+6x_{3}=1, \\\\\n",
    "x_{1}-2x_{2}+3x_{3}=-2, \\\\\n",
    "3x_{1}-6x_{2}+9x_{3}=5;\n",
    "\\end{cases}$\n",
    "    \n",
    "   в) $\\begin{cases}\n",
    "x_{1}+2x_{2}+5x_{3}=4, \\\\\n",
    "3x_{1}+x_{2}-8x_{3}=-2. \n",
    "\\end{cases}$"
   ]
  },
  {
   "cell_type": "code",
   "execution_count": 3,
   "id": "fae1bbe0",
   "metadata": {},
   "outputs": [
    {
     "name": "stdout",
     "output_type": "stream",
     "text": [
      "а) Система имеет единственное решение\n",
      "б) Система несовместна\n",
      "в) Система имеет бесконечное число решений\n"
     ]
    }
   ],
   "source": [
    "A_1  = np.array([\n",
    "    [3, -1,  1], \n",
    "    [2, -5, -3],\n",
    "    [1,  1, -1]\n",
    "])\n",
    "B_1 = np.array([\n",
    "    [3, -1,  1,   4], \n",
    "    [2, -5, -3, -17],\n",
    "    [1,  1, -1,   0]\n",
    "])\n",
    "\n",
    "A_2  = np.array([\n",
    "    [2, -4, 6],\n",
    "    [1, -2, 3],\n",
    "    [3, -6, 9]\n",
    "])\n",
    "B_2 = np.array([\n",
    "    [2, -4, 6,  1],\n",
    "    [1, -2, 3, -2],\n",
    "    [3, -6, 9,  5]\n",
    "])\n",
    "\n",
    "A_3  = np.array([\n",
    "    [1, 2,  5],\n",
    "    [3, 1, -8]\n",
    "])\n",
    "B_3 = np.array([\n",
    "    [1, 2,  5,  4],\n",
    "    [3, 1, -8, -2]\n",
    "])\n",
    "\n",
    "def my_func(matrix_1, matrix_2):\n",
    "    a = np.linalg.matrix_rank(matrix_1)\n",
    "    b = np.linalg.matrix_rank(matrix_2)\n",
    "    if a == b and b == len(matrix_1[0]):\n",
    "        return \"Система имеет единственное решение\"\n",
    "    if a == b and b < len(matrix_1[0]):\n",
    "        return \"Система имеет бесконечное число решений\"\n",
    "    if a < b:\n",
    "        return \"Система несовместна\"\n",
    "    \n",
    "print(f'а) {my_func(A_1, B_1)}')\n",
    "print(f'б) {my_func(A_2, B_2)}')\n",
    "print(f'в) {my_func(A_3, B_3)}')"
   ]
  },
  {
   "cell_type": "markdown",
   "id": "927e0997",
   "metadata": {},
   "source": [
    "__3.__ Проверить на совместность и выяснить, сколько решений будет иметь система линейных уравнений, заданная расширенной матрицей\n",
    "\n",
    "$$\\tilde{A}=\\begin{pmatrix}\n",
    "\\left.\\begin{matrix}\n",
    "1 & 3 & -2 & 4\\\\ \n",
    "0 & 5 & 0 & 1\\\\ \n",
    "0 & 0 & 3 & 0\\\\ \n",
    "0 & 0 & 0 & 2\n",
    "\\end{matrix}\\right|\n",
    "\\begin{matrix}\n",
    "3\\\\ \n",
    "2\\\\\n",
    "4\\\\\n",
    "1\n",
    "\\end{matrix}\n",
    "\\end{pmatrix}.$$"
   ]
  },
  {
   "cell_type": "markdown",
   "id": "52316c40",
   "metadata": {},
   "source": [
    "$rank A=rank \\tilde A$, количество неизвестных n = 4, таким образом выполняется условие теоремы Кронекера — Капелли для определенной матрицы с единственным решением."
   ]
  },
  {
   "cell_type": "code",
   "execution_count": 5,
   "id": "6d1b9cb9",
   "metadata": {},
   "outputs": [
    {
     "name": "stdout",
     "output_type": "stream",
     "text": [
      " Система имеет единственное решение\n"
     ]
    }
   ],
   "source": [
    "A = np.array([\n",
    "    [1, 3, -2, 4],\n",
    "    [0, 5,  0, 1],\n",
    "    [0, 0,  3, 0],\n",
    "    [0, 0,  0, 2]\n",
    "])\n",
    "B = np.array([\n",
    "    [1, 3, -2, 4, 3],\n",
    "    [0, 5,  0, 1, 2],\n",
    "    [0, 0,  3, 0, 4],\n",
    "    [0, 0,  0, 2, 1]\n",
    "])\n",
    "\n",
    "print(f' {my_func(A, B)}')"
   ]
  },
  {
   "cell_type": "markdown",
   "id": "f54d5199",
   "metadata": {},
   "source": [
    "__4.__ Дана система линейных уравнений, заданная расширенной матрицей\n",
    "\n",
    "$$\\tilde{A}=\\begin{pmatrix}\n",
    "\\left.\\begin{matrix}\n",
    "1 & 2 & 3\\\\ \n",
    "4 & 5 & 6\\\\ \n",
    "7 & 8 & 9\n",
    "\\end{matrix}\\right|\n",
    "\\begin{matrix}\n",
    "a\\\\ \n",
    "b\\\\\n",
    "c\n",
    "\\end{matrix}\n",
    "\\end{pmatrix}.$$\n",
    "\n",
    "Найти соотношение между параметрами $a$, $b$ и $c$, при которых система является несовместной."
   ]
  },
  {
   "cell_type": "markdown",
   "id": "735cae90",
   "metadata": {},
   "source": [
    "Достаточным условием несовместности системы является: $rank A<rank \\tilde A$. Приведем систему к диагональному виду:"
   ]
  },
  {
   "cell_type": "markdown",
   "id": "237f85fc",
   "metadata": {},
   "source": [
    "$\\tilde{A}=\n",
    "\\begin{pmatrix}\n",
    "\\left.\\begin{matrix}\n",
    "1 & 2 & 3\\\\ \n",
    "4 & 5 & 6\\\\ \n",
    "7 & 8 & 9\n",
    "\\end{matrix}\\right|\n",
    "\\begin{matrix}\n",
    "a\\\\ \n",
    "b\\\\\n",
    "c\n",
    "\\end{matrix}\n",
    "\\end{pmatrix} \n",
    "=\n",
    "\\begin{pmatrix}\n",
    "\\left.\\begin{matrix}\n",
    "1 & 2 & 3\\\\ \n",
    "0 & -3 & -6\\\\ \n",
    "0 & -6 & -12\n",
    "\\end{matrix}\\right|\n",
    "\\begin{matrix}\n",
    "a\\\\ \n",
    "b-4a\\\\\n",
    "c-7a\n",
    "\\end{matrix}\n",
    "\\end{pmatrix}\n",
    "=\n",
    "\\begin{pmatrix}\n",
    "\\left.\\begin{matrix}\n",
    "1 & 2 & 3\\\\ \n",
    "0 & -3 & -6\\\\ \n",
    "0 & 0 & 0\n",
    "\\end{matrix}\\right|\n",
    "\\begin{matrix}\n",
    "a\\\\ \n",
    "b-4a\\\\\n",
    "c-7a-2b\n",
    "\\end{matrix}\n",
    "\\end{pmatrix}$"
   ]
  },
  {
   "cell_type": "markdown",
   "id": "b4ddd629",
   "metadata": {},
   "source": [
    "$\\tilde{A}=\n",
    "\\begin{pmatrix}\n",
    "\\left.\\begin{matrix}\n",
    "1 & 2 & 3\\\\ \n",
    "4 & 5 & 6\\\\ \n",
    "7 & 8 & 9\n",
    "\\end{matrix}\\right|\n",
    "\\begin{matrix}\n",
    "a\\\\ \n",
    "b\\\\\n",
    "c\n",
    "\\end{matrix}\n",
    "\\end{pmatrix} \n",
    "=\n",
    "\\begin{pmatrix}\n",
    "\\left.\\begin{matrix}\n",
    "1 & 2 & 3\\\\ \n",
    "2 & 1 & 0\\\\ \n",
    "4 & 2 & 0\n",
    "\\end{matrix}\\right|\n",
    "\\begin{matrix}\n",
    "a\\\\ \n",
    "b-2a\\\\\n",
    "c-3a\n",
    "\\end{matrix}\n",
    "\\end{pmatrix}\n",
    "=\n",
    "\\begin{pmatrix}\n",
    "\\left.\\begin{matrix}\n",
    "1 & 2 & 3\\\\ \n",
    "2 & 1 & 0\\\\ \n",
    "0 & 0 & 0\n",
    "\\end{matrix}\\right|\n",
    "\\begin{matrix}\n",
    "a\\\\ \n",
    "b-2a\\\\\n",
    "c-3a-2b\n",
    "\\end{matrix}\n",
    "\\end{pmatrix}$"
   ]
  },
  {
   "cell_type": "markdown",
   "id": "a2fb7acc",
   "metadata": {},
   "source": [
    "Таким образом, система будет несовместна при $c-3a-2b \\neq 0$, или $c-7a-2b \\neq 0$"
   ]
  },
  {
   "cell_type": "markdown",
   "id": "280a5b9d",
   "metadata": {},
   "source": [
    "### Часть 2"
   ]
  },
  {
   "cell_type": "markdown",
   "id": "78a66ebd",
   "metadata": {},
   "source": [
    "__1.__ Решить систему уравнений методом Крамера:\n",
    "\n",
    "   а) $\\begin{cases}\n",
    "x_{1}-2x_{2}=1 \\\\\n",
    "3x_{1}-4x_{2}=7\n",
    "\\end{cases}$\n",
    "    \n",
    "   б) $\\begin{cases}\n",
    "2x_{1}-x_{2}+5x_{3}=10 \\\\\n",
    "x_{1}+x_{2}-3x_{3}=-2 \\\\\n",
    "2x_{1}+4x_{2}+x_{3}=1\n",
    "\\end{cases}$"
   ]
  },
  {
   "cell_type": "markdown",
   "id": "8ef7b2a8",
   "metadata": {},
   "source": [
    "a)"
   ]
  },
  {
   "cell_type": "markdown",
   "id": "2543830f",
   "metadata": {},
   "source": [
    "$detA=\\begin{vmatrix}\n",
    "1 & -2\\\\ \n",
    "3 & -4 \n",
    "\\end{vmatrix}\n",
    "=-4 + 6 =2\\neq 0$"
   ]
  },
  {
   "cell_type": "markdown",
   "id": "51c184db",
   "metadata": {},
   "source": [
    "$detA_1=\\begin{vmatrix}\n",
    "1 & -2\\\\ \n",
    "7 & -4 \n",
    "\\end{vmatrix}\n",
    "=-4+14 = 10$"
   ]
  },
  {
   "cell_type": "markdown",
   "id": "024d7cd2",
   "metadata": {},
   "source": [
    "$detA_2=\\begin{vmatrix}\n",
    "1 & 1\\\\ \n",
    "3 & 7 \n",
    "\\end{vmatrix}\n",
    "=7-3 = 4$"
   ]
  },
  {
   "cell_type": "markdown",
   "id": "900b8ce9",
   "metadata": {},
   "source": [
    "$x_1 = \\frac{10}{2} = 5, x_2 = \\frac{4}{2} = 2$"
   ]
  },
  {
   "cell_type": "markdown",
   "id": "4b235cb3",
   "metadata": {},
   "source": [
    "б)"
   ]
  },
  {
   "cell_type": "markdown",
   "id": "35a6490e",
   "metadata": {},
   "source": [
    "$detA=\\begin{vmatrix}\n",
    "2 & -1 & 5\\\\ \n",
    "1 & 1 & -3\\\\ \n",
    "2 & 4 & 1\n",
    "\\end{vmatrix}=\n",
    "2\\begin{vmatrix}\n",
    "1 & -3\\\\ \n",
    "4 & 1 \n",
    "\\end{vmatrix}+\n",
    "\\begin{vmatrix}\n",
    "1 & -3\\\\ \n",
    "2 & 1 \n",
    "\\end{vmatrix}+\n",
    "5\\begin{vmatrix}\n",
    "1 & 1 \\\\ \n",
    "2 & 4\n",
    "\\end{vmatrix}=2(1 + 12)+7+5(4-2)=43\\neq 0$"
   ]
  },
  {
   "cell_type": "markdown",
   "id": "f1cd71a9",
   "metadata": {},
   "source": [
    "$detA_{1}=\\begin{vmatrix}\n",
    "10 & -1 & 5\\\\ \n",
    "-2 & 1 & -3\\\\ \n",
    "1 & 4 & 1\n",
    "\\end{vmatrix}=\n",
    "10\\begin{vmatrix}\n",
    "1 & -3\\\\ \n",
    "4 & 1 \n",
    "\\end{vmatrix}+\n",
    "\\begin{vmatrix}\n",
    "-2 & -3\\\\ \n",
    "1 & 1 \n",
    "\\end{vmatrix}+\n",
    "5\\begin{vmatrix}\n",
    "-2 & 1 \\\\ \n",
    "1 & 4\n",
    "\\end{vmatrix}=10(1 + 12)+1+5(-8-1)=86$"
   ]
  },
  {
   "cell_type": "markdown",
   "id": "7095936b",
   "metadata": {},
   "source": [
    "$detA_{2}=\\begin{vmatrix}\n",
    "2 & 10 & 5\\\\ \n",
    "1 & -2 & -3\\\\ \n",
    "2 & 1 & 1\n",
    "\\end{vmatrix}=\n",
    "2\\begin{vmatrix}\n",
    "-2 & -3\\\\ \n",
    "1 & 1 \n",
    "\\end{vmatrix}-\n",
    "10\\begin{vmatrix}\n",
    "1 & -3\\\\ \n",
    "2 & 1 \n",
    "\\end{vmatrix}+\n",
    "5\\begin{vmatrix}\n",
    "1 & -2 \\\\ \n",
    "2 & 1\n",
    "\\end{vmatrix}=2(-2+3)-10(1+6)+5(1+4)=2-70+25=-43$"
   ]
  },
  {
   "cell_type": "markdown",
   "id": "e13a172b",
   "metadata": {},
   "source": [
    "$detA_{3}=\\begin{vmatrix}\n",
    "2 & -1 & 10\\\\ \n",
    "1 & 1 & -2\\\\ \n",
    "2 & 4 & 1\n",
    "\\end{vmatrix}=\n",
    "2\\begin{vmatrix}\n",
    "1 & -2\\\\ \n",
    "4 & 1\n",
    "\\end{vmatrix}+\n",
    "\\begin{vmatrix}\n",
    "1 & 2\\\\ \n",
    "-2 & 1 \n",
    "\\end{vmatrix}+\n",
    "10\\begin{vmatrix}\n",
    "1 & 1 \\\\ \n",
    "2 & 4\n",
    "\\end{vmatrix}=2(1+8)+5+10(4-2)=18+5+20=43$"
   ]
  },
  {
   "cell_type": "markdown",
   "id": "0e19d64c",
   "metadata": {},
   "source": [
    "$x_{1} = \\frac{detA_{1}}{detA} = \\frac{86}{43}=2, x_{2} = \\frac{detA_{2}}{detA} = -\\frac{43}{43}=-1, x_{3} = \\frac{detA_{3}}{detA} = \\frac{43}{43}=1.$"
   ]
  }
 ],
 "metadata": {
  "kernelspec": {
   "display_name": "Python 3",
   "language": "python",
   "name": "python3"
  },
  "language_info": {
   "codemirror_mode": {
    "name": "ipython",
    "version": 3
   },
   "file_extension": ".py",
   "mimetype": "text/x-python",
   "name": "python",
   "nbconvert_exporter": "python",
   "pygments_lexer": "ipython3",
   "version": "3.8.8"
  }
 },
 "nbformat": 4,
 "nbformat_minor": 5
}
